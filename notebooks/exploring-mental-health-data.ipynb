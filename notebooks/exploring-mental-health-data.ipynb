{
 "cells": [
  {
   "cell_type": "code",
   "execution_count": 1,
   "id": "71ec9095",
   "metadata": {
    "_cell_guid": "b1076dfc-b9ad-4769-8c92-a6c4dae69d19",
    "_uuid": "8f2839f25d086af736a60e9eeb907d3b93b6e0e5",
    "execution": {
     "iopub.execute_input": "2024-11-05T15:48:49.510147Z",
     "iopub.status.busy": "2024-11-05T15:48:49.509575Z",
     "iopub.status.idle": "2024-11-05T15:48:50.764924Z",
     "shell.execute_reply": "2024-11-05T15:48:50.763730Z"
    },
    "papermill": {
     "duration": 1.265217,
     "end_time": "2024-11-05T15:48:50.768085",
     "exception": false,
     "start_time": "2024-11-05T15:48:49.502868",
     "status": "completed"
    },
    "tags": []
   },
   "outputs": [
    {
     "name": "stdout",
     "output_type": "stream",
     "text": [
      "/kaggle/input/playground-series-s4e11/sample_submission.csv\n",
      "/kaggle/input/playground-series-s4e11/train.csv\n",
      "/kaggle/input/playground-series-s4e11/test.csv\n"
     ]
    }
   ],
   "source": [
    "# This Python 3 environment comes with many helpful analytics libraries installed\n",
    "# It is defined by the kaggle/python Docker image: https://github.com/kaggle/docker-python\n",
    "# For example, here's several helpful packages to load\n",
    "\n",
    "import numpy as np # linear algebra\n",
    "import pandas as pd # data processing, CSV file I/O (e.g. pd.read_csv)\n",
    "\n",
    "# Input data files are available in the read-only \"../input/\" directory\n",
    "# For example, running this (by clicking run or pressing Shift+Enter) will list all files under the input directory\n",
    "\n",
    "import os\n",
    "for dirname, _, filenames in os.walk('/kaggle/input'):\n",
    "    for filename in filenames:\n",
    "        print(os.path.join(dirname, filename))\n",
    "\n",
    "# You can write up to 20GB to the current directory (/kaggle/working/) that gets preserved as output when you create a version using \"Save & Run All\" \n",
    "# You can also write temporary files to /kaggle/temp/, but they won't be saved outside of the current session"
   ]
  },
  {
   "cell_type": "markdown",
   "id": "cdeaa20f",
   "metadata": {
    "papermill": {
     "duration": 0.00395,
     "end_time": "2024-11-05T15:48:50.776658",
     "exception": false,
     "start_time": "2024-11-05T15:48:50.772708",
     "status": "completed"
    },
    "tags": []
   },
   "source": [
    "# **1. Import Necessary Libraries **"
   ]
  },
  {
   "cell_type": "code",
   "execution_count": 2,
   "id": "39b2ea03",
   "metadata": {
    "execution": {
     "iopub.execute_input": "2024-11-05T15:48:50.787303Z",
     "iopub.status.busy": "2024-11-05T15:48:50.786714Z",
     "iopub.status.idle": "2024-11-05T15:48:53.138871Z",
     "shell.execute_reply": "2024-11-05T15:48:53.137649Z"
    },
    "papermill": {
     "duration": 2.360895,
     "end_time": "2024-11-05T15:48:53.141740",
     "exception": false,
     "start_time": "2024-11-05T15:48:50.780845",
     "status": "completed"
    },
    "tags": []
   },
   "outputs": [],
   "source": [
    "import pandas as pd\n",
    "import numpy as np\n",
    "from sklearn.model_selection import train_test_split\n",
    "from sklearn.impute import SimpleImputer\n",
    "from sklearn.ensemble import IsolationForest\n",
    "from sklearn.preprocessing import OneHotEncoder, StandardScaler\n",
    "from sklearn.compose import ColumnTransformer\n",
    "from sklearn.pipeline import Pipeline\n",
    "from sklearn.ensemble import RandomForestClassifier\n",
    "from sklearn.metrics import accuracy_score, precision_score, recall_score, f1_score\n"
   ]
  },
  {
   "cell_type": "code",
   "execution_count": 3,
   "id": "dac9e772",
   "metadata": {
    "execution": {
     "iopub.execute_input": "2024-11-05T15:48:53.152447Z",
     "iopub.status.busy": "2024-11-05T15:48:53.151846Z",
     "iopub.status.idle": "2024-11-05T15:48:54.601931Z",
     "shell.execute_reply": "2024-11-05T15:48:54.600386Z"
    },
    "papermill": {
     "duration": 1.45892,
     "end_time": "2024-11-05T15:48:54.605036",
     "exception": false,
     "start_time": "2024-11-05T15:48:53.146116",
     "status": "completed"
    },
    "tags": []
   },
   "outputs": [],
   "source": [
    "df_train = pd.read_csv(\"/kaggle/input/playground-series-s4e11/train.csv\")\n",
    "df_test = pd.read_csv(\"/kaggle/input/playground-series-s4e11/test.csv\")\n",
    "\n",
    "X = df_train.drop('Depression', axis=1)\n",
    "y = df_train['Depression']\n",
    "\n",
    "# Step 2: Split into training and testing sets\n",
    "X_train, X_test, y_train, y_test = train_test_split(X, y, test_size=0.2, random_state=42)\n"
   ]
  },
  {
   "cell_type": "code",
   "execution_count": 4,
   "id": "3a89da8c",
   "metadata": {
    "execution": {
     "iopub.execute_input": "2024-11-05T15:48:54.621230Z",
     "iopub.status.busy": "2024-11-05T15:48:54.619288Z",
     "iopub.status.idle": "2024-11-05T15:48:55.699594Z",
     "shell.execute_reply": "2024-11-05T15:48:55.698340Z"
    },
    "papermill": {
     "duration": 1.091112,
     "end_time": "2024-11-05T15:48:55.702505",
     "exception": false,
     "start_time": "2024-11-05T15:48:54.611393",
     "status": "completed"
    },
    "tags": []
   },
   "outputs": [],
   "source": [
    "from sklearn.compose import ColumnTransformer\n",
    "from sklearn.pipeline import Pipeline\n",
    "from sklearn.impute import SimpleImputer\n",
    "from sklearn.preprocessing import OneHotEncoder, StandardScaler\n",
    "\n",
    "# Define preprocessing for numerical features\n",
    "numerical_preprocessor = Pipeline(steps=[\n",
    "    ('imputer', SimpleImputer(strategy='mean')),  # Handle missing values\n",
    "    ('scaler', StandardScaler())\n",
    "])\n",
    "\n",
    "# Define preprocessing for categorical features\n",
    "categorical_preprocessor = Pipeline(steps=[\n",
    "    ('imputer', SimpleImputer(strategy='most_frequent')),  # Handle missing values\n",
    "    ('encoder', OneHotEncoder(handle_unknown='ignore'))\n",
    "])\n",
    "\n",
    "# Combine both preprocessors using ColumnTransformer\n",
    "numerical_columns = X_train.select_dtypes(include=['int64', 'float64']).columns.tolist()\n",
    "categorical_columns = X_train.select_dtypes(include=['object']).columns.tolist()\n",
    "\n",
    "preprocessor = ColumnTransformer(\n",
    "    transformers=[\n",
    "        ('num', numerical_preprocessor, numerical_columns),\n",
    "        ('cat', categorical_preprocessor, categorical_columns)\n",
    "    ]\n",
    ")\n",
    "\n",
    "# Fit the preprocessor on the training data and transform both the training and testing data\n",
    "X_train_preprocessed = preprocessor.fit_transform(X_train)\n",
    "X_test_preprocessed = preprocessor.transform(X_test)\n",
    "\n",
    "\n"
   ]
  },
  {
   "cell_type": "code",
   "execution_count": 5,
   "id": "1468cb6f",
   "metadata": {
    "execution": {
     "iopub.execute_input": "2024-11-05T15:48:55.713465Z",
     "iopub.status.busy": "2024-11-05T15:48:55.713010Z",
     "iopub.status.idle": "2024-11-05T15:49:05.271571Z",
     "shell.execute_reply": "2024-11-05T15:49:05.269921Z"
    },
    "papermill": {
     "duration": 9.567655,
     "end_time": "2024-11-05T15:49:05.274549",
     "exception": false,
     "start_time": "2024-11-05T15:48:55.706894",
     "status": "completed"
    },
    "tags": []
   },
   "outputs": [],
   "source": [
    "from sklearn.ensemble import IsolationForest\n",
    "\n",
    "# Apply Isolation Forest for outlier detection on the training data\n",
    "isolation_forest = IsolationForest(contamination=0.01, random_state=42)\n",
    "outlier_labels = isolation_forest.fit_predict(X_train_preprocessed)\n",
    "\n",
    "# Filter out outliers from both X_train_preprocessed and y_train\n",
    "non_outliers_mask = outlier_labels != -1\n",
    "X_train_preprocessed = X_train_preprocessed[non_outliers_mask]\n",
    "y_train = y_train[non_outliers_mask]\n",
    "\n",
    "\n"
   ]
  },
  {
   "cell_type": "code",
   "execution_count": 6,
   "id": "d135816b",
   "metadata": {
    "execution": {
     "iopub.execute_input": "2024-11-05T15:49:05.285722Z",
     "iopub.status.busy": "2024-11-05T15:49:05.284727Z",
     "iopub.status.idle": "2024-11-05T15:49:08.608968Z",
     "shell.execute_reply": "2024-11-05T15:49:08.607734Z"
    },
    "papermill": {
     "duration": 3.332788,
     "end_time": "2024-11-05T15:49:08.611756",
     "exception": false,
     "start_time": "2024-11-05T15:49:05.278968",
     "status": "completed"
    },
    "tags": []
   },
   "outputs": [
    {
     "data": {
      "text/html": [
       "<style>#sk-container-id-1 {color: black;background-color: white;}#sk-container-id-1 pre{padding: 0;}#sk-container-id-1 div.sk-toggleable {background-color: white;}#sk-container-id-1 label.sk-toggleable__label {cursor: pointer;display: block;width: 100%;margin-bottom: 0;padding: 0.3em;box-sizing: border-box;text-align: center;}#sk-container-id-1 label.sk-toggleable__label-arrow:before {content: \"▸\";float: left;margin-right: 0.25em;color: #696969;}#sk-container-id-1 label.sk-toggleable__label-arrow:hover:before {color: black;}#sk-container-id-1 div.sk-estimator:hover label.sk-toggleable__label-arrow:before {color: black;}#sk-container-id-1 div.sk-toggleable__content {max-height: 0;max-width: 0;overflow: hidden;text-align: left;background-color: #f0f8ff;}#sk-container-id-1 div.sk-toggleable__content pre {margin: 0.2em;color: black;border-radius: 0.25em;background-color: #f0f8ff;}#sk-container-id-1 input.sk-toggleable__control:checked~div.sk-toggleable__content {max-height: 200px;max-width: 100%;overflow: auto;}#sk-container-id-1 input.sk-toggleable__control:checked~label.sk-toggleable__label-arrow:before {content: \"▾\";}#sk-container-id-1 div.sk-estimator input.sk-toggleable__control:checked~label.sk-toggleable__label {background-color: #d4ebff;}#sk-container-id-1 div.sk-label input.sk-toggleable__control:checked~label.sk-toggleable__label {background-color: #d4ebff;}#sk-container-id-1 input.sk-hidden--visually {border: 0;clip: rect(1px 1px 1px 1px);clip: rect(1px, 1px, 1px, 1px);height: 1px;margin: -1px;overflow: hidden;padding: 0;position: absolute;width: 1px;}#sk-container-id-1 div.sk-estimator {font-family: monospace;background-color: #f0f8ff;border: 1px dotted black;border-radius: 0.25em;box-sizing: border-box;margin-bottom: 0.5em;}#sk-container-id-1 div.sk-estimator:hover {background-color: #d4ebff;}#sk-container-id-1 div.sk-parallel-item::after {content: \"\";width: 100%;border-bottom: 1px solid gray;flex-grow: 1;}#sk-container-id-1 div.sk-label:hover label.sk-toggleable__label {background-color: #d4ebff;}#sk-container-id-1 div.sk-serial::before {content: \"\";position: absolute;border-left: 1px solid gray;box-sizing: border-box;top: 0;bottom: 0;left: 50%;z-index: 0;}#sk-container-id-1 div.sk-serial {display: flex;flex-direction: column;align-items: center;background-color: white;padding-right: 0.2em;padding-left: 0.2em;position: relative;}#sk-container-id-1 div.sk-item {position: relative;z-index: 1;}#sk-container-id-1 div.sk-parallel {display: flex;align-items: stretch;justify-content: center;background-color: white;position: relative;}#sk-container-id-1 div.sk-item::before, #sk-container-id-1 div.sk-parallel-item::before {content: \"\";position: absolute;border-left: 1px solid gray;box-sizing: border-box;top: 0;bottom: 0;left: 50%;z-index: -1;}#sk-container-id-1 div.sk-parallel-item {display: flex;flex-direction: column;z-index: 1;position: relative;background-color: white;}#sk-container-id-1 div.sk-parallel-item:first-child::after {align-self: flex-end;width: 50%;}#sk-container-id-1 div.sk-parallel-item:last-child::after {align-self: flex-start;width: 50%;}#sk-container-id-1 div.sk-parallel-item:only-child::after {width: 0;}#sk-container-id-1 div.sk-dashed-wrapped {border: 1px dashed gray;margin: 0 0.4em 0.5em 0.4em;box-sizing: border-box;padding-bottom: 0.4em;background-color: white;}#sk-container-id-1 div.sk-label label {font-family: monospace;font-weight: bold;display: inline-block;line-height: 1.2em;}#sk-container-id-1 div.sk-label-container {text-align: center;}#sk-container-id-1 div.sk-container {/* jupyter's `normalize.less` sets `[hidden] { display: none; }` but bootstrap.min.css set `[hidden] { display: none !important; }` so we also need the `!important` here to be able to override the default hidden behavior on the sphinx rendered scikit-learn.org. See: https://github.com/scikit-learn/scikit-learn/issues/21755 */display: inline-block !important;position: relative;}#sk-container-id-1 div.sk-text-repr-fallback {display: none;}</style><div id=\"sk-container-id-1\" class=\"sk-top-container\"><div class=\"sk-text-repr-fallback\"><pre>XGBClassifier(base_score=None, booster=None, callbacks=None,\n",
       "              colsample_bylevel=None, colsample_bynode=None,\n",
       "              colsample_bytree=0.3431507276242327, device=None,\n",
       "              early_stopping_rounds=None, enable_categorical=False,\n",
       "              eval_metric=None, feature_types=None, gamma=4.540114884762189,\n",
       "              grow_policy=None, importance_type=None,\n",
       "              interaction_constraints=None, learning_rate=0.21386105990207085,\n",
       "              max_bin=None, max_cat_threshold=None, max_cat_to_onehot=None,\n",
       "              max_delta_step=None, max_depth=4, max_leaves=None,\n",
       "              min_child_weight=7, missing=nan, monotone_constraints=None,\n",
       "              multi_strategy=None, n_estimators=738, n_jobs=None,\n",
       "              num_parallel_tree=None, random_state=42, ...)</pre><b>In a Jupyter environment, please rerun this cell to show the HTML representation or trust the notebook. <br />On GitHub, the HTML representation is unable to render, please try loading this page with nbviewer.org.</b></div><div class=\"sk-container\" hidden><div class=\"sk-item\"><div class=\"sk-estimator sk-toggleable\"><input class=\"sk-toggleable__control sk-hidden--visually\" id=\"sk-estimator-id-1\" type=\"checkbox\" checked><label for=\"sk-estimator-id-1\" class=\"sk-toggleable__label sk-toggleable__label-arrow\">XGBClassifier</label><div class=\"sk-toggleable__content\"><pre>XGBClassifier(base_score=None, booster=None, callbacks=None,\n",
       "              colsample_bylevel=None, colsample_bynode=None,\n",
       "              colsample_bytree=0.3431507276242327, device=None,\n",
       "              early_stopping_rounds=None, enable_categorical=False,\n",
       "              eval_metric=None, feature_types=None, gamma=4.540114884762189,\n",
       "              grow_policy=None, importance_type=None,\n",
       "              interaction_constraints=None, learning_rate=0.21386105990207085,\n",
       "              max_bin=None, max_cat_threshold=None, max_cat_to_onehot=None,\n",
       "              max_delta_step=None, max_depth=4, max_leaves=None,\n",
       "              min_child_weight=7, missing=nan, monotone_constraints=None,\n",
       "              multi_strategy=None, n_estimators=738, n_jobs=None,\n",
       "              num_parallel_tree=None, random_state=42, ...)</pre></div></div></div></div></div>"
      ],
      "text/plain": [
       "XGBClassifier(base_score=None, booster=None, callbacks=None,\n",
       "              colsample_bylevel=None, colsample_bynode=None,\n",
       "              colsample_bytree=0.3431507276242327, device=None,\n",
       "              early_stopping_rounds=None, enable_categorical=False,\n",
       "              eval_metric=None, feature_types=None, gamma=4.540114884762189,\n",
       "              grow_policy=None, importance_type=None,\n",
       "              interaction_constraints=None, learning_rate=0.21386105990207085,\n",
       "              max_bin=None, max_cat_threshold=None, max_cat_to_onehot=None,\n",
       "              max_delta_step=None, max_depth=4, max_leaves=None,\n",
       "              min_child_weight=7, missing=nan, monotone_constraints=None,\n",
       "              multi_strategy=None, n_estimators=738, n_jobs=None,\n",
       "              num_parallel_tree=None, random_state=42, ...)"
      ]
     },
     "execution_count": 6,
     "metadata": {},
     "output_type": "execute_result"
    }
   ],
   "source": [
    "from xgboost import XGBClassifier\n",
    "\n",
    "# Instantiate the model with the best parameters from Optuna tuning\n",
    "best_params = {\n",
    "    'colsample_bytree': 0.3431507276242327, \n",
    "    'learning_rate': 0.21386105990207085, \n",
    "    'max_depth': 4, \n",
    "    'min_child_weight': 7, \n",
    "    'n_estimators': 738, \n",
    "    'subsample': 0.7533763963831641, \n",
    "    'gamma': 4.540114884762189, \n",
    "    'reg_lambda': 5.059981920152652\n",
    "}\n",
    "\n",
    "model = XGBClassifier(**best_params, use_label_encoder=False, random_state=42)\n",
    "\n",
    "# Train the model\n",
    "model.fit(X_train_preprocessed, y_train)\n"
   ]
  },
  {
   "cell_type": "code",
   "execution_count": 7,
   "id": "f977da16",
   "metadata": {
    "execution": {
     "iopub.execute_input": "2024-11-05T15:49:08.623408Z",
     "iopub.status.busy": "2024-11-05T15:49:08.622448Z",
     "iopub.status.idle": "2024-11-05T15:49:08.854655Z",
     "shell.execute_reply": "2024-11-05T15:49:08.853263Z"
    },
    "papermill": {
     "duration": 0.240926,
     "end_time": "2024-11-05T15:49:08.857372",
     "exception": false,
     "start_time": "2024-11-05T15:49:08.616446",
     "status": "completed"
    },
    "tags": []
   },
   "outputs": [
    {
     "name": "stdout",
     "output_type": "stream",
     "text": [
      "Accuracy: 0.93909026297086\n",
      "Precision: 0.8416765991259436\n",
      "Recall: 0.8220799379123012\n",
      "F1 Score: 0.831762858264625\n"
     ]
    }
   ],
   "source": [
    "from sklearn.metrics import accuracy_score, precision_score, recall_score, f1_score\n",
    "\n",
    "# Predict on the test data\n",
    "y_pred = model.predict(X_test_preprocessed)\n",
    "\n",
    "# Calculate evaluation metrics\n",
    "accuracy = accuracy_score(y_test, y_pred)\n",
    "precision = precision_score(y_test, y_pred)\n",
    "recall = recall_score(y_test, y_pred)\n",
    "f1 = f1_score(y_test, y_pred)\n",
    "\n",
    "# Print the evaluation metrics\n",
    "print(f\"Accuracy: {accuracy}\")\n",
    "print(f\"Precision: {precision}\")\n",
    "print(f\"Recall: {recall}\")\n",
    "print(f\"F1 Score: {f1}\")\n"
   ]
  },
  {
   "cell_type": "code",
   "execution_count": 8,
   "id": "48b10205",
   "metadata": {
    "execution": {
     "iopub.execute_input": "2024-11-05T15:49:08.869231Z",
     "iopub.status.busy": "2024-11-05T15:49:08.868776Z",
     "iopub.status.idle": "2024-11-05T15:49:10.584912Z",
     "shell.execute_reply": "2024-11-05T15:49:10.583270Z"
    },
    "papermill": {
     "duration": 1.726068,
     "end_time": "2024-11-05T15:49:10.588241",
     "exception": false,
     "start_time": "2024-11-05T15:49:08.862173",
     "status": "completed"
    },
    "tags": []
   },
   "outputs": [
    {
     "name": "stdout",
     "output_type": "stream",
     "text": [
      "       id  Depression\n",
      "0  140700           0\n",
      "1  140701           0\n",
      "2  140702           0\n",
      "3  140703           1\n",
      "4  140704           0\n"
     ]
    }
   ],
   "source": [
    "# Load your test data again\n",
    "test_data = pd.read_csv('/kaggle/input/playground-series-s4e11/test.csv')\n",
    "\n",
    "# Preprocess the test data correctly\n",
    "X_test_preprocessed = preprocessor.transform(test_data)\n",
    "\n",
    "# Generate predictions using your trained model\n",
    "y_pred_test = model.predict(X_test_preprocessed)\n",
    "\n",
    "# Ensure that 'y_pred_test' has the same length as 'test_data'\n",
    "if len(y_pred_test) == len(test_data):\n",
    "    submission_df = pd.DataFrame({\n",
    "        'id': test_data['id'],  # Ensure 'id' is correctly referenced from test_data\n",
    "        'Depression': y_pred_test  # Model predictions\n",
    "    })\n",
    "\n",
    "    # Save the submission DataFrame to a CSV file\n",
    "    submission_df.to_csv('submission.csv', index=False)\n",
    "\n",
    "    # Display the first 5 rows\n",
    "    print(submission_df.head())\n",
    "else:\n",
    "    print(\"Error: The lengths of predictions and test data do not match.\")\n",
    "\n"
   ]
  }
 ],
 "metadata": {
  "kaggle": {
   "accelerator": "none",
   "dataSources": [
    {
     "databundleVersionId": 10008389,
     "sourceId": 84895,
     "sourceType": "competition"
    }
   ],
   "dockerImageVersionId": 30786,
   "isGpuEnabled": false,
   "isInternetEnabled": true,
   "language": "python",
   "sourceType": "notebook"
  },
  "kernelspec": {
   "display_name": "Python 3",
   "language": "python",
   "name": "python3"
  },
  "language_info": {
   "codemirror_mode": {
    "name": "ipython",
    "version": 3
   },
   "file_extension": ".py",
   "mimetype": "text/x-python",
   "name": "python",
   "nbconvert_exporter": "python",
   "pygments_lexer": "ipython3",
   "version": "3.10.14"
  },
  "papermill": {
   "default_parameters": {},
   "duration": 25.150618,
   "end_time": "2024-11-05T15:49:11.316086",
   "environment_variables": {},
   "exception": null,
   "input_path": "__notebook__.ipynb",
   "output_path": "__notebook__.ipynb",
   "parameters": {},
   "start_time": "2024-11-05T15:48:46.165468",
   "version": "2.6.0"
  }
 },
 "nbformat": 4,
 "nbformat_minor": 5
}
